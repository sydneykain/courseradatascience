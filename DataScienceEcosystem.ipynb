{
  "metadata": {
    "kernelspec": {
      "name": "python",
      "display_name": "Python (Pyodide)",
      "language": "python"
    },
    "language_info": {
      "codemirror_mode": {
        "name": "python",
        "version": 3
      },
      "file_extension": ".py",
      "mimetype": "text/x-python",
      "name": "python",
      "nbconvert_exporter": "python",
      "pygments_lexer": "ipython3",
      "version": "3.8"
    },
    "colab": {
      "provenance": [],
      "include_colab_link": true
    }
  },
  "nbformat_minor": 0,
  "nbformat": 4,
  "cells": [
    {
      "cell_type": "markdown",
      "metadata": {
        "id": "view-in-github",
        "colab_type": "text"
      },
      "source": [
        "<a href=\"https://colab.research.google.com/github/sydneykain/courseradatascience/blob/main/DataScienceEcosystem.ipynb\" target=\"_parent\"><img src=\"https://colab.research.google.com/assets/colab-badge.svg\" alt=\"Open In Colab\"/></a>"
      ]
    },
    {
      "cell_type": "markdown",
      "source": [
        "# Data Science Tools and Ecosystem"
      ],
      "metadata": {
        "id": "yUvlef7OZ8x1"
      }
    },
    {
      "cell_type": "markdown",
      "source": [
        "## Author\n",
        "Sydney Kain"
      ],
      "metadata": {
        "id": "DBVYk0W-Z8x7"
      }
    },
    {
      "cell_type": "markdown",
      "source": [
        "This notebook will describe Data Science Tools and Ecosystem"
      ],
      "metadata": {
        "id": "C-cI0WFZZ8x8"
      }
    },
    {
      "cell_type": "markdown",
      "source": [
        "# Objectives\n",
        "- List common languages for Data Science\n",
        "- List common libraries in Data Science\n",
        "- List common toolsin Data Science"
      ],
      "metadata": {
        "id": "zxE8p6n7Z8x9"
      }
    },
    {
      "cell_type": "markdown",
      "source": [
        "Common languages used by Data Science include:\n",
        "1. Python\n",
        "2. SQL\n",
        "3. R"
      ],
      "metadata": {
        "id": "pNRHBr13Z8x-"
      }
    },
    {
      "cell_type": "markdown",
      "source": [
        "Commonly used libraries in data science include:\n",
        "1. Pandas\n",
        "2. Numpy\n",
        "3. TensorFlow"
      ],
      "metadata": {
        "id": "IBMIe-nEZ8x_"
      }
    },
    {
      "cell_type": "markdown",
      "source": [
        "| Data Science Tools |\n",
        "|--------------------|\n",
        "| Jupyter Notebook  |\n",
        "| RStudio           |\n",
        "| VisualStudio|"
      ],
      "metadata": {
        "id": "FPJTujlsZ8x_"
      }
    },
    {
      "cell_type": "markdown",
      "source": [
        "### Examples of arithmetic expressions in Python"
      ],
      "metadata": {
        "id": "nUjN9GnzZ8yA"
      }
    },
    {
      "cell_type": "code",
      "source": [
        "#This is how we use arithmetic expressions to multiply and add integers\n",
        "(3*4)+5\n"
      ],
      "metadata": {
        "trusted": true,
        "id": "7ViTc0XSZ8yB",
        "outputId": "7e6ba2c6-939b-4416-8aec-c6529b042f96"
      },
      "outputs": [
        {
          "execution_count": 4,
          "output_type": "execute_result",
          "data": {
            "text/plain": "17"
          },
          "metadata": {}
        }
      ],
      "execution_count": null
    },
    {
      "cell_type": "code",
      "source": [
        "#This converts 200 minutes in to hours\n",
        "200/60"
      ],
      "metadata": {
        "trusted": true,
        "id": "TgRQKzIJZ8yD",
        "outputId": "8b56125f-43be-42e7-b134-022f827c405c"
      },
      "outputs": [
        {
          "execution_count": 5,
          "output_type": "execute_result",
          "data": {
            "text/plain": "3.3333333333333335"
          },
          "metadata": {}
        }
      ],
      "execution_count": null
    },
    {
      "cell_type": "code",
      "source": [],
      "metadata": {
        "trusted": true,
        "id": "3vGMyS4WZ8yE"
      },
      "outputs": [],
      "execution_count": null
    }
  ]
}